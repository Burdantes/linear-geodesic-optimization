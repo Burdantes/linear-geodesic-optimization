{
 "cells": [
  {
   "cell_type": "markdown",
   "metadata": {},
   "source": [
    "Note: This notebook assumes the notation found in `../main.ipynb` and `laplacian.ipynb`."
   ]
  },
  {
   "cell_type": "markdown",
   "metadata": {},
   "source": [
    "# Computation\n",
    "\n",
    "Say we want to find the geodesic distances to a set of points $\\gamma$. Following the strategy from [here](https://www.cs.cmu.edu/~kmcrane/Projects/HeatMethod/), we use the (approximate) heat flow $u^\\gamma$, where $$\\begin{aligned}\n",
    "    t &\\triangleq (\\text{mean spacing between mesh points})^2, & \\text{Adjustable parameter} \\\\\n",
    "    \\delta^\\gamma &\\triangleq \\begin{cases}\n",
    "        1 & \\text{if $v_i \\in \\gamma$}, \\\\\n",
    "        0 & \\text{if $v_i \\not\\in \\gamma$},\n",
    "    \\end{cases} & \\text{Heat source} \\\\\n",
    "    u^\\gamma &\\triangleq (D - tL_C)^{-1}\\delta^\\gamma & \\text{Heat flow}\n",
    "\\end{aligned}$$\n",
    "\n",
    "We can then compute $$\\begin{aligned}\n",
    "    q_{i, j} &\\triangleq u^\\gamma_i(v_{c(i, j)} - v_j), \\\\\n",
    "    m_{i, j} &\\triangleq q_{i, j} + q_{j, c(i, j)} + q_{c(i, j), i}, \\\\\n",
    "    (\\widetilde{\\nabla} u^\\gamma)_{i, j} &\\triangleq N_{i, j} \\times m_{i, j}, \\\\\n",
    "    X^\\gamma_{i, j} &\\triangleq -\\frac{(\\widetilde{\\nabla} u^\\gamma)_{i, j}}{\\|(\\widetilde{\\nabla} u^\\gamma)_{i, j}\\|_2}, \\\\\n",
    "    p_{i, j} &\\triangleq \\cot(\\theta_{i, j})(v_j - v_i), \\\\\n",
    "    (\\nabla \\cdot X^\\gamma)_i &= \\frac{1}{2}\\sum_{\\substack{k \\\\ \\text{$(v_i, v_k)$ is an edge}}}(p_{i, k} - p_{c(i, k), i}) \\cdot X^\\gamma_{i, k}, \\\\\n",
    "    \\phi^\\gamma &= L_C^+ \\cdot (\\nabla \\cdot X^\\gamma).\n",
    "\\end{aligned}$$ Here, $L_C^+$ is the [pseudoinverse](https://en.wikipedia.org/wiki/Moore%E2%80%93Penrose_inverse) of $L_C$ (as it is singular). Note that the integrated divergence can be thought of as taking a sum over triangles $v_i \\to v_k \\to v_{c(i, k)}$.\n",
    "\n",
    "Note that we're being careful about which pieces have a dependence on $\\gamma$, as we can reuse certain computations if we want to compute distances from multiple sources. Abusing notation, we can get the distance matrix (that is, get rid of the $\\gamma$ dependence) from $$\\phi_{i, j} = \\left(\\phi^{\\{v_j\\}}\\right)_i.$$"
   ]
  },
  {
   "cell_type": "code",
   "execution_count": 4,
   "metadata": {},
   "outputs": [
    {
     "name": "stdout",
     "output_type": "stream",
     "text": [
      "Estimated: 1.408892; True: 1.418774\n",
      "Estimated: 0.720279; True: 0.746413\n",
      "Estimated: 0.158188; True: 0.187515\n",
      "Estimated: 1.458591; True: 1.453627\n",
      "Estimated: 1.064372; True: 1.104311\n",
      "Estimated: 0.953984; True: 0.958728\n",
      "Estimated: 0.683269; True: 0.690504\n",
      "Estimated: 0.903459; True: 0.908117\n",
      "Estimated: 0.835155; True: 0.846562\n",
      "Estimated: 1.398564; True: 1.414845\n"
     ]
    }
   ],
   "source": [
    "if __name__ == '__main__':\n",
    "    frequency = 20\n",
    "    M = SphereMesh(frequency)\n",
    "\n",
    "    laplacian_forward = laplacian.Forward(M)\n",
    "    geodesic_forward = Forward(M, laplacian_forward)\n",
    "\n",
    "    phi = geodesic_forward.calc_phi(M.nearest_direction_index(\n",
    "        SphereMesh.latitude_longitude_to_direction(0, 0)))\n",
    "\n",
    "    rng = np.random.default_rng()\n",
    "    for _ in range(10):\n",
    "        direction = np.array([rng.random(), rng.random(), rng.random()])\n",
    "        direction = direction / linalg.norm(direction)\n",
    "        print(f'Estimated: {phi[M.nearest_direction_index(direction)]:.6f};',\n",
    "            end=' ')\n",
    "        print(f'True: {np.arccos(direction[0]):.6f}')"
   ]
  },
  {
   "cell_type": "markdown",
   "metadata": {},
   "source": [
    "# Gradient Computation\n",
    "\n",
    "Note that $c(i, c(j, i)) = j$. This is helpful for reindexing some sums (in particular, the one for $\\nabla \\cdot X$).\n",
    "\n",
    "We then have the following partial derivatives: $$\\begin{aligned}\n",
    "    \\frac{\\partial u^\\gamma}{\\partial \\rho_\\ell} &= -(D - tL_C)^{-1}\\left(\\frac{\\partial D}{\\partial \\rho_\\ell} - t\\frac{\\partial L_C}{\\partial \\rho_\\ell}\\right)u^\\gamma, \\\\\n",
    "    \\frac{\\partial q_{i, j}}{\\partial \\rho_\\ell} &= \\begin{cases}\n",
    "        \\displaystyle\\frac{\\partial u^\\gamma_i}{\\rho_\\ell}(v_{c(i, j)} - v_j) - u^\\gamma_i\\frac{\\partial v_\\ell}{\\rho_\\ell} & \\text{if $\\ell = j$}, \\\\\n",
    "        \\displaystyle\\frac{\\partial u^\\gamma_i}{\\rho_\\ell}(v_{c(i, j)} - v_j) + u^\\gamma_i\\frac{\\partial v_\\ell}{\\partial \\rho_\\ell} & \\text{if $\\ell = c(i, j)$}, \\\\\n",
    "        \\displaystyle\\frac{\\partial u^\\gamma_i}{\\rho_\\ell}(v_{c(i, j)} - v_j) & \\text{otherwise},\n",
    "    \\end{cases} \\\\\n",
    "    \\frac{\\partial m_{i, j}}{\\partial \\rho_\\ell} &= \\frac{\\partial q_{i, j}}{\\partial \\rho_\\ell} + \\frac{\\partial q_{j, c(i, j)}}{\\partial \\rho_\\ell} + \\frac{\\partial q_{c(i, j), i}}{\\partial \\rho_\\ell}, \\\\\n",
    "    \\frac{\\partial (\\widetilde{\\nabla} u^\\gamma)_{i, j}}{\\partial \\rho_\\ell} &= \\frac{\\partial N_{i, j}}{\\partial \\rho_\\ell} \\times m_{i, j} + N_{i, j} \\times \\frac{\\partial m_{i, j}}{\\partial \\rho_\\ell}, \\\\\n",
    "    \\frac{\\partial X^\\gamma_{i, j}}{\\partial \\rho_\\ell} &= -\\frac{1}{\\|(\\widetilde{\\nabla} u^\\gamma)_{i, j}\\|_2}(I - X^\\gamma_{i, j}(X^\\gamma_{i, j})^\\intercal)\\frac{\\partial (\\widetilde{\\nabla} u^\\gamma)_{i, j}}{\\partial \\rho_\\ell}, \\\\\n",
    "    \\frac{\\partial p_{i, j}}{\\partial \\rho} &= \\begin{cases}\n",
    "        \\displaystyle\\left(\\frac{\\partial}{\\partial \\rho_\\ell}\\cot(\\theta_{i, j})\\right)(v_j - v_i) - \\cot(\\theta_{i, j})\\frac{\\partial v_\\ell}{\\rho_\\ell} & \\text{if $\\ell = i$}, \\\\\n",
    "        \\displaystyle\\left(\\frac{\\partial}{\\partial \\rho_\\ell}\\cot(\\theta_{i, j})\\right)(v_j - v_i) + \\cot(\\theta_{i, j})\\frac{\\partial v_\\ell}{\\rho_\\ell} & \\text{if $\\ell = j$}, \\\\\n",
    "        \\displaystyle\\left(\\frac{\\partial}{\\partial \\rho_\\ell}\\cot(\\theta_{i, j})\\right)(v_j - v_i) & \\text{if $\\ell = c(i, j)$}, \\\\\n",
    "        0 & \\text{otherwise},\n",
    "    \\end{cases} \\\\\n",
    "    \\frac{\\partial (\\nabla \\cdot X^\\gamma)_i}{\\partial \\rho_\\ell} &= \\frac{1}{2}\\sum_{\\substack{k \\\\ \\text{$(v_i, v_k)$ is an edge}}}\\left(\\left(\\frac{\\partial p_{i, k}}{\\partial \\rho_\\ell} - \\frac{\\partial p_{c(i, k), i}}{\\partial \\rho_\\ell}\\right) \\cdot X^\\gamma_{i, k} + (p_{i, k} - p_{c(i, k), i}) \\cdot \\frac{\\partial X^\\gamma_{i, k}}{\\partial \\rho_\\ell}\\right) \\\\\n",
    "    \\frac{\\partial \\phi^\\gamma}{\\partial \\rho_\\ell} &= L_C^+\\left(\\frac{\\partial (\\nabla \\cdot X^\\gamma)}{\\partial \\rho_\\ell} - \\frac{\\partial L_C}{\\partial \\rho_\\ell}\\phi^\\gamma\\right).\n",
    "\\end{aligned}$$\n",
    "\n",
    "Some of these can probably be simplified using, for example, the triple product or similar? Also, the pseudoinverse computation might be rather inefficient."
   ]
  }
 ],
 "metadata": {
  "kernelspec": {
   "display_name": "Python 3.10.5 64-bit (system)",
   "language": "python",
   "name": "python3"
  },
  "language_info": {
   "codemirror_mode": {
    "name": "ipython",
    "version": 3
   },
   "file_extension": ".py",
   "mimetype": "text/x-python",
   "name": "python",
   "nbconvert_exporter": "python",
   "pygments_lexer": "ipython3",
   "version": "3.10.5"
  },
  "orig_nbformat": 4,
  "vscode": {
   "interpreter": {
    "hash": "2a8dfe095fce2b5e88c64a2c3ee084c8e0e0d70b23e7b95b1cfb538be294c5c8"
   }
  }
 },
 "nbformat": 4,
 "nbformat_minor": 2
}
