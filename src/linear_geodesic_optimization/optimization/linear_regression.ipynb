{
 "cells": [
  {
   "cell_type": "markdown",
   "metadata": {},
   "source": [
    "# Computation\n",
    "\n",
    "Recall the one-dimensional least squares setup. Here, we wish to relate $t_e$ to $d_e$ by $t_e \\approx \\beta_0 + \\beta_1d_e$, where $d$ is some function of $\\phi$. The goal is to minimize $$\\sum_{e \\in E_G}(t_e - \\beta_0 - \\beta_1d_e)^2$$ with respect to $\\beta_0$ and $\\beta_1$. Differentiating with respect to $\\beta_0$ and $\\beta_1$ gives the following relations: $$\\begin{aligned}\n",
    "    0 &= -2\\sum_{e \\in E_G}(t_e - \\beta_0 - \\beta_1d_e), \\\\\n",
    "    0 &= -2\\sum_{e \\in E_G}d_e(t_e - \\beta_0 - \\beta_1d_e).\n",
    "\\end{aligned}$$\n",
    "\n",
    "Rearranging, $$\\begin{aligned}\n",
    "    \\beta_1\\sum_{e \\in E_G}d_e &= \\sum_{e \\in E_G}t_e - \\beta_0|E_G|, \\\\\n",
    "    \\beta_1\\sum_{e \\in E_G}d_e^2 &= \\sum_{e \\in E_G}d_et_e - \\beta_0\\sum_{e \\in E_G}d_e.\n",
    "\\end{aligned}$$ Scaling and equating, we have $$\\begin{aligned}\n",
    "    \\left(\\sum_{e \\in E_G}d_e^2\\right)\\left(\\sum_{e \\in E_G}t_e\\right) - \\beta_0|E_G|\\left(\\sum_{e \\in E_G}d_e^2\\right) &= \\left(\\sum_{e \\in E_G}d_e\\right)\\left(\\sum_{e \\in E_G}d_et_e\\right) - \\beta_0\\left(\\sum_{e \\in E_G}d_e\\right)^2 \\\\\n",
    "    \\beta_0 &= \\frac{\\left(\\sum_{e \\in E_G}d_e^2\\right)\\left(\\sum_{e \\in E_G}t_e\\right) - \\left(\\sum_{e \\in E_G}d_e\\right)\\left(\\sum_{e \\in E_G}d_et_e\\right)}{|E_G|\\left(\\sum_{e \\in E_G}d_e^2\\right) - \\left(\\sum_{e \\in E_G}d_e\\right)^2}.\n",
    "\\end{aligned}$$\n",
    "\n",
    "We similarly find $$\\begin{aligned}\n",
    "    \\beta_0|E_G| &= \\sum_{e \\in E_G}t_e - \\beta_1\\sum_{e \\in E_G}d_e, \\\\\n",
    "    \\beta_0\\sum_{e \\in E_G}d_e &= \\sum_{e \\in E_G}d_et_e - \\beta_1\\sum_{e \\in E_G}d_e^2,\n",
    "\\end{aligned}$$ so $$\\begin{aligned}\n",
    "    \\left(\\sum_{e \\in E_G}d_e\\right)\\left(\\sum_{e \\in E_G}t_e\\right) - \\beta_1\\left(\\sum_{e \\in E_G}d_e\\right)^2 &= |E_G|\\sum_{e \\in E_G}d_et_e - \\beta_1|E_G|\\sum_{e \\in E_G}d_e^2 \\\\\n",
    "    \\beta_1 &= \\frac{|E_G|\\sum_{e \\in E_G}d_et_e - \\left(\\sum_{e \\in E_G}d_e\\right)\\left(\\sum_{e \\in E_G}t_e\\right)}{|E_G|\\left(\\sum_{e \\in E_G}d_e^2\\right) - \\left(\\sum_{e \\in E_G}d_e\\right)^2}.\n",
    "\\end{aligned}$$\n",
    "\n",
    "These expressions are quite bad, but we can simplify them somewhat if we make the following assumptions: $$\\begin{aligned}\n",
    "    1 &= \\frac{1}{|E_G|}\\sum_{e \\in E_G}d_e^2 , \\\\\n",
    "    0 &= \\sum_{e \\in E_G}d_e.\n",
    "\\end{aligned}$$ Then $$\\begin{aligned}\n",
    "    \\beta_0 &= \\frac{1}{|E_G|}\\sum_{e \\in E_G}t_e, \\\\\n",
    "    \\beta_1 &= \\frac{1}{|E_G|}\\sum_{e \\in E_G}d_et_e.\n",
    "\\end{aligned}$$ The assumptions hold if we have $$\\begin{aligned}\n",
    "    \\widetilde{d}_e &\\triangleq \\phi_e - \\frac{1}{|E_G|}\\sum_{e' \\in E_G}\\phi_{e'}, \\\\\n",
    "    d_e &\\triangleq \\frac{\\widetilde{d}_e}{\\sqrt{\\frac{1}{|E_G|}\\sum_{e' \\in E_G}\\widetilde{d}_{e'}^2}}.\n",
    "\\end{aligned}$$ Importantly, these are just affine transformations.\n",
    "\n",
    "Then $$\\mathcal{L}_{\\mathrm{geodesic}}(M) \\triangleq \\sum_{e \\in E_G}\\left(t_e - \\frac{1}{|E_G|}\\sum_{e' \\in E_G}t_{e'} - \\frac{d_e}{|E_G|}\\sum_{e' \\in E_G}d_{e'}t_{e'}\\right)^2$$"
   ]
  },
  {
   "cell_type": "markdown",
   "metadata": {},
   "source": [
    "# Gradient Computation\n",
    "\n",
    "From the above, we get, $$\\begin{aligned}\n",
    "    \\frac{\\partial}{\\partial \\rho_\\ell}\\mathcal{L}_{\\mathrm{geodesic}}(M) &= -\\frac{2}{|E_G|}\\sum_{e \\in E_G}\\left(t_e - \\frac{1}{|E_G|}\\sum_{e' \\in E_G}t_{e'} - \\frac{d_e}{|E_G|}\\sum_{e' \\in E_G}d_{e'}t_{e'}\\right) \\\\\n",
    "        &\\hspace{8em}\\cdot \\left(\\frac{\\partial d_e}{\\partial \\rho_\\ell}\\sum_{e' \\in E_G}d_{e'}t_{e'} + d_e\\sum_{e' \\in E_G}\\frac{\\partial d_{e'}}{\\partial \\rho_\\ell}t_{e'}\\right), \\\\\n",
    "    \\frac{\\partial d_e}{\\partial \\rho_\\ell} &= \\frac{\\sqrt{\\sum_{e' \\in E_G}\\widetilde{d}_{e'}^2} \\cdot \\frac{\\partial \\widetilde{d}_e}{\\partial \\rho_\\ell} - d_e\\sum_{e' \\in E_G}\\left(\\widetilde{d}_{e'} \\cdot \\frac{\\partial \\widetilde{d}_{e'}}{\\partial \\rho_\\ell}\\right)}{\\sum_{e' \\in E_G}\\widetilde{d}_{e'}^2}, \\\\\n",
    "        &= \\frac{1}{\\sqrt{\\sum_{e' \\in E_G}\\widetilde{d}_{e'}^2}}\\left(\\frac{\\partial \\widetilde{d}_e}{\\partial \\rho_\\ell} - d_e\\sum_{e' \\in E_G}\\left(d_{e'} \\cdot \\frac{\\partial \\widetilde{d}_{e'}}{\\partial \\rho_\\ell}\\right)\\right) \\\\\n",
    "    \\frac{\\partial \\widetilde{d}_e}{\\partial \\rho_\\ell} &= \\frac{\\partial \\phi_e}{\\partial \\rho_\\ell} - \\frac{1}{|E_G|}\\sum_{e' \\in E_G}\\frac{\\partial \\phi_{e'}}{\\partial \\rho_\\ell}.\n",
    "\\end{aligned}$$"
   ]
  }
 ],
 "metadata": {
  "kernelspec": {
   "display_name": "Python 3.10.5 64-bit (system)",
   "language": "python",
   "name": "python3"
  },
  "language_info": {
   "name": "python",
   "version": "3.10.5"
  },
  "orig_nbformat": 4,
  "vscode": {
   "interpreter": {
    "hash": "2a8dfe095fce2b5e88c64a2c3ee084c8e0e0d70b23e7b95b1cfb538be294c5c8"
   }
  }
 },
 "nbformat": 4,
 "nbformat_minor": 2
}
