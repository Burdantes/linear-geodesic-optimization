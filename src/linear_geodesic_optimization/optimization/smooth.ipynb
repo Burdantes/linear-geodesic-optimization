{
 "cells": [
  {
   "cell_type": "code",
   "execution_count": 1,
   "metadata": {},
   "outputs": [],
   "source": [
    "from pathlib import Path\n",
    "import sys\n",
    "path = Path()\n",
    "for crumb in __name__.split('.'):\n",
    "    path = path / crumb\n",
    "sys.path.insert(0, str((path / '..' / '..' / '..').resolve()))"
   ]
  },
  {
   "cell_type": "code",
   "execution_count": 2,
   "metadata": {},
   "outputs": [],
   "source": [
    "from linear_geodesic_optimization.utils import notebook_import\n",
    "from linear_geodesic_optimization.optimization import laplacian"
   ]
  },
  {
   "cell_type": "markdown",
   "metadata": {},
   "source": [
    "# Computation\n",
    "\n",
    "It would be nice to have something like [SI-MVS](https://www2.eecs.berkeley.edu/Pubs/TechRpts/1993/CSD-93-732.pdf#page=142) (see [this](https://www2.eecs.berkeley.edu/Pubs/TechRpts/1992/CSD-92-664.pdf) too). [Willmore Energy](https://en.wikipedia.org/wiki/Willmore_energy) is another possibility.\n",
    "\n",
    "[This](https://www.cad-journal.net/files/vol_4/CAD_4(5)_2007_607-617.pdf) gives a good overview.\n",
    "\n",
    "For now, we use $$\\mathcal{L}_{\\text{smooth}}(M) \\triangleq -\\rho^\\intercal L_C\\rho.$$"
   ]
  },
  {
   "cell_type": "code",
   "execution_count": 3,
   "metadata": {},
   "outputs": [],
   "source": [
    "class Forward:\n",
    "    def __init__(self, mesh, laplacian_forward=None):\n",
    "        self._mesh = mesh\n",
    "        self._rho = None\n",
    "\n",
    "        self._updates = self._mesh.updates() - 1\n",
    "\n",
    "        self._laplacian_forward = laplacian_forward\n",
    "        if self._laplacian_forward is None:\n",
    "            self._laplacian_forward = laplacian.Forward(mesh)\n",
    "\n",
    "        self.LC = None\n",
    "        self.L_smooth = None\n",
    "\n",
    "    def calc_L_smooth(self):\n",
    "        self._laplacian_forward.calc_L()\n",
    "        self.LC = self._laplacian_forward.LC\n",
    "\n",
    "        if self._updates != self._mesh.updates():\n",
    "            self._updates = self._mesh.updates()\n",
    "            self._rho = self._mesh.get_rho()\n",
    "\n",
    "            self.L_smooth = -self._rho.T @ (self.LC @ self._rho)\n",
    "\n",
    "        return self.L_smooth"
   ]
  },
  {
   "cell_type": "markdown",
   "metadata": {},
   "source": [
    "# Gradient Computation\n",
    "\n",
    "We compute the derivatives $$\\begin{aligned}\n",
    "    \\frac{\\partial}{\\partial \\rho_\\ell}\\mathcal{L}_{\\text{smooth}}(M) &= -e_\\ell^\\intercal L_C\\rho - \\rho^\\intercal\\frac{\\partial L_C}{\\partial \\rho_\\ell}\\rho - \\rho^\\intercal L_Ce_\\ell.\n",
    "\\end{aligned}$$"
   ]
  },
  {
   "cell_type": "code",
   "execution_count": 4,
   "metadata": {},
   "outputs": [],
   "source": [
    "class Reverse:\n",
    "    def __init__(self, mesh, laplacian_forward=None, laplacian_reverse=None):\n",
    "        self._mesh = mesh\n",
    "        self._updates = self._mesh.updates() - 1\n",
    "        self._rho = None\n",
    "\n",
    "        self._dif_v = None\n",
    "        self._ls = None\n",
    "\n",
    "        self._laplacian_forward = laplacian_forward\n",
    "        if self._laplacian_forward is None:\n",
    "            self._laplacian_forward = laplacian.Forward(mesh)\n",
    "\n",
    "        self._laplacian_reverse = laplacian_reverse\n",
    "        if self._laplacian_reverse is None:\n",
    "            self._laplacian_reverse = laplacian.Reverse(mesh, laplacian_forward)\n",
    "\n",
    "        self._LC = None\n",
    "        self.dif_LC = None\n",
    "\n",
    "        self.dif_L_smooth = None\n",
    "\n",
    "    def calc_dif_L_smooth(self, dif_v, ls=None):\n",
    "        if self._ls is None:\n",
    "            self._ls = dif_v.keys()\n",
    "        if ls is None:\n",
    "            ls = dif_v.keys()\n",
    "\n",
    "        self._laplacian_forward.calc_L()\n",
    "        self._LC = self._laplacian_forward.LC\n",
    "\n",
    "        self._laplacian_reverse.calc_dif_L(dif_v, ls)\n",
    "        self.dif_LC = self._laplacian_reverse.dif_LC\n",
    "\n",
    "        if self._updates != self._mesh.updates() or self._ls != ls:\n",
    "            self._updates = self._mesh.updates()\n",
    "            self._rho = self._mesh.get_rho()\n",
    "            self._dif_v = dif_v\n",
    "            self._ls = ls\n",
    "\n",
    "            L_rho = self._LC @ self._rho + self._LC.T @ self._rho\n",
    "            self.dif_L_smooth = {l: -L_rho[l]\n",
    "                                    - self._rho @ (self.dif_LC[l] @ self._rho)\n",
    "                                 for l in self._ls}\n",
    "\n",
    "        return self.dif_L_smooth"
   ]
  }
 ],
 "metadata": {
  "kernelspec": {
   "display_name": "Python 3.10.5 64-bit (system)",
   "language": "python",
   "name": "python3"
  },
  "language_info": {
   "codemirror_mode": {
    "name": "ipython",
    "version": 3
   },
   "file_extension": ".py",
   "mimetype": "text/x-python",
   "name": "python",
   "nbconvert_exporter": "python",
   "pygments_lexer": "ipython3",
   "version": "3.10.5"
  },
  "orig_nbformat": 4,
  "vscode": {
   "interpreter": {
    "hash": "2a8dfe095fce2b5e88c64a2c3ee084c8e0e0d70b23e7b95b1cfb538be294c5c8"
   }
  }
 },
 "nbformat": 4,
 "nbformat_minor": 2
}
