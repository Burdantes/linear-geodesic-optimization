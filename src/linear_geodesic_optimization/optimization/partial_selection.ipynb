{
 "cells": [
  {
   "cell_type": "markdown",
   "metadata": {},
   "source": [
    "## Partial Derivative Selection\n",
    "\n",
    "Computing the gradient of $\\mathcal{L}_{\\text{geodesic}, v}(M)$ is quite expensive. We can make the computation more efficient by approximately reconstructing the geodesics from $v$. Importantly, for vertices not on the faces through which the geodesics pass, the partial derivatives will be $0$."
   ]
  },
  {
   "cell_type": "markdown",
   "metadata": {},
   "source": [
    "### Fixed Point Iteration Strategy\n",
    "\n",
    "Consider the set of geodesics between $v_a$ and $v_b$ for $b \\in B$, where the geodesic distance is computed from $v_a$ (as in a single source problem). A conservative estimate of these faces incident to these geodesics can be constructed iteratively by finding a minimal fixed point $S_{a, B}$ of $$S \\mapsto \\left\\{(v_i \\to v_j \\to v_{c(i, j)}) : \\begin{array}{c}\\text{$(v_i \\to v_j \\to v_{c(i, j)})$ is adjacent to a face $(v_j \\to v_i \\to v_{c(j, i)}) \\in S$} \\\\ \\text{and $\\phi_{a, c(i, j)} < \\max(\\phi_{a, i}, \\phi_{a, j})$}\\end{array}\\right\\}$$ such that $$\\{(v_b \\to v_i \\to v_{c(b, i)}) : \\phi_{a, b} > \\min(\\phi_{a, i}, \\phi_{a, c(b, i)}), b \\in B\\} \\subseteq S_{a, B}.$$ In other words, $S_{a, B}$ is (at least) the set of faces through which paths that always move towards $v_a$ can pass through.\n",
    "\n",
    "With this computed, the vertices we care about are those incident to the faces in $S_{a, B}$.\n",
    "\n",
    "This strategy is implemented in `approximate_geodesics_fpi`."
   ]
  },
  {
   "cell_type": "markdown",
   "metadata": {},
   "source": [
    "### Triangle Inequality Strategy\n",
    "\n",
    "Suppose we have the same setup as before, where we want to find the faces incident to the geodesic between $v_a$ and $v_b$. Let's focus in on a face $f = (v_i \\to v_j \\to v_{c(i, j)})$. Note that geodesic distance satisfies the triangle inequality. Define $$\\begin{aligned}\n",
    "    \\widetilde{a} \\in \\argmin_{\\ell \\in \\{i, j, c(i, j)\\}}\\left(\\phi_{a, \\ell}\\right), \\\\\n",
    "    \\widetilde{b} \\in \\argmin_{\\ell \\in \\{i, j, c(i, j)\\}}\\left(\\phi_{b, \\ell}\\right).\n",
    "\\end{aligned}$$ From the triangle inequality, we have $$\\phi_{a, b} \\le \\phi_{a, \\widetilde{a}} + \\|v_{\\widetilde{a}} - v_{\\widetilde{b}}\\|_2 + \\phi_{b, \\widetilde{b}}.$$ Intuitively, this inequality is saying that $f$ cannot be too far away from $v_a$ and $v_b$.\n",
    "\n",
    "Note that any $f$ that satisfies the above also automatically satisfies the conditions of the fixed point strategy (the \"monotonic\" path is the concatenation of the geodesic from $v_b$ to $v_{\\widetilde{b}}$, the edge from $v_{\\widetilde{b}}$ to $v_{\\widetilde{a}}$ (or no edge if $\\widetilde{b} = \\widetilde{a}$), and the geodesic from $v_{\\widetilde{a}}$ to $v_a$). Therefore, this strategy is a refinement of the previous one. Unfortunately, (using the notation from `geodesic.ipynb`) the previous strategy required thinking only of $\\phi^{\\{v_a\\}}$, whereas this strategy requires considering additionally $\\phi^{\\{v_b\\}}$ for each $b$ such that $(a, b) \\in E_G$."
   ]
  }
 ],
 "metadata": {
  "kernelspec": {
   "display_name": "Python 3.10.5 64-bit (system)",
   "language": "python",
   "name": "python3"
  },
  "language_info": {
   "name": "python",
   "version": "3.10.5"
  },
  "orig_nbformat": 4,
  "vscode": {
   "interpreter": {
    "hash": "2a8dfe095fce2b5e88c64a2c3ee084c8e0e0d70b23e7b95b1cfb538be294c5c8"
   }
  }
 },
 "nbformat": 4,
 "nbformat_minor": 2
}
