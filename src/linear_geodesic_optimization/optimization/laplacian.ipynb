{
 "cells": [
  {
   "cell_type": "markdown",
   "metadata": {},
   "source": [
    "# Computation\n",
    "\n",
    "Some notation first. If $i$ and $j$ are two indices vertices for which $(v_i, v_j)$ is an edge, let $c(i, j)$ be the index such that $v_i \\to v_j \\to v_{c(i, j)}$ traces a triangle counterclockwise. Note that this index exists and is unique assuming we have a mesh without boundary.\n",
    "\n",
    "We have the following (standard) definition of the Laplace-Beltrami operator on a mesh: $$\\begin{aligned}\n",
    "    N_{i, j} &\\triangleq (v_i - v_{c(i, j)}) \\times (v_j - v_{c(i, j)}), & \\text{Outward normal of triangle $v_i \\to v_j \\to v_{c(i, j)}$} \\\\\n",
    "    A_{i, j} &\\triangleq \\frac{1}{2}\\|N_{i, j}\\|_2, & \\text{Area of triangle $v_i \\to v_j \\to v_{c(i, j)}$} \\\\\n",
    "    D_{i, j} &\\triangleq \\begin{cases}\n",
    "        \\displaystyle\\frac{1}{3}\\sum_{\\substack{k \\\\ \\text{$(v_i, v_k)$ is an edge}}}A_{i, k} & \\text{if $i = j$}, \\\\\n",
    "        0 & \\text{otherwise},\n",
    "    \\end{cases} & \\text{Vertex triangle areas; diagonal} \\\\\n",
    "    \\cot(\\theta_{i, j}) &= \\frac{(v_i - v_{c(i, j)}) \\cdot (v_j - v_{c(i, j)})}{2A_{i, j}}, & \\text{Cotangent of $\\angle v_iv_{c(i, j)}v_j$} \\\\\n",
    "    (L_C)_{i, j} &\\triangleq \\begin{cases}\n",
    "        \\displaystyle\\frac{1}{2}(\\cot(\\theta_{i, j}) + \\cot(\\theta_{j, i})) & \\text{if $(i, j)$ is an edge}, \\\\\n",
    "        \\displaystyle-\\frac{1}{2}\\sum_{\\substack{k \\\\ \\text{$(v_i, v_k)$ is an edge}}}(\\cot(\\theta_{i, k}) + \\cot(\\theta_{k, i})) & \\text{if $i = j$}, \\\\\n",
    "        0 & \\text{otherwise},\n",
    "    \\end{cases} & \\text{Cotangent operator; sparse} \\\\\n",
    "    L &\\triangleq D^{-1}L_C.\n",
    "\\end{aligned}$$"
   ]
  },
  {
   "cell_type": "markdown",
   "metadata": {},
   "source": [
    "# Gradient Computation\n",
    "\n",
    "For the ease of notation (and the avoidance of edge cases), assume that we are using the spherical setup, so $v_\\ell = \\rho_\\ell s_\\ell$.\n",
    "\n",
    "We compute $$\\begin{aligned}\n",
    "    \\frac{\\partial v_i}{\\partial \\rho_\\ell} &= \\begin{cases}\n",
    "        s_i & \\text{if $\\ell = i$}, \\\\\n",
    "        0 & \\text{otherwise},\n",
    "    \\end{cases} \\\\\n",
    "    \\frac{\\partial N_{i, j}}{\\partial \\rho_\\ell} &= \\begin{cases}\n",
    "        (v_{c(i, j)} - v_j) \\times \\frac{\\partial v_\\ell}{\\partial \\rho_\\ell} & \\text{if $\\ell = i$}, \\\\\n",
    "        (v_i - v_{c(i, j)}) \\times \\frac{\\partial v_\\ell}{\\partial \\rho_\\ell} & \\text{if $\\ell = j$}, \\\\\n",
    "        (v_j - v_i) \\times \\frac{\\partial v_\\ell}{\\partial \\rho_\\ell} & \\text{if $\\ell = c(i, j)$}, \\\\\n",
    "        0 & \\text{otherwise},\n",
    "    \\end{cases} \\\\\n",
    "    \\frac{\\partial A_{i, j}}{\\partial \\rho_\\ell} &= \\frac{1}{4A_{i, j}}N_{i, j} \\cdot \\frac{\\partial N_{i, j}}{\\partial \\rho_\\ell}, \\\\\n",
    "    \\left(\\frac{\\partial D}{\\partial \\rho_\\ell}\\right)_{i, j} &= \\begin{cases}\n",
    "        \\displaystyle\\frac{1}{3}\\sum_{\\substack{k \\\\ \\text{$(v_i, v_k)$ is an edge}}}\\frac{\\partial A_{i, k}}{\\partial \\rho_\\ell} & \\text{if $i = j$}, \\\\\n",
    "        0 & \\text{otherwise},\n",
    "    \\end{cases} \\\\\n",
    "    \\frac{\\partial}{\\partial \\rho_\\ell}\\cot(\\theta_{i, j}) &= \\begin{cases}\n",
    "        \\displaystyle\\frac{(v_j - v_{c(i, j)}) \\cdot \\frac{\\partial v_\\ell}{\\partial \\rho_\\ell} - 2\\cot(\\theta_{i, j})\\frac{\\partial A_{i, j}}{\\partial \\rho_\\ell}}{2A_{i, j}} & \\text{if $\\ell = i$}, \\\\\n",
    "        \\displaystyle\\frac{(v_i - v_{c(i, j)}) \\cdot \\frac{\\partial v_\\ell}{\\partial \\rho_\\ell} - 2\\cot(\\theta_{i, j})\\frac{\\partial A_{i, j}}{\\partial \\rho_\\ell}}{2A_{i, j}} & \\text{if $\\ell = j$}, \\\\\n",
    "        \\displaystyle\\frac{(2v_{c(i, j)} - v_i - v_j) \\cdot \\frac{\\partial v_\\ell}{\\partial \\rho_\\ell} - 2\\cot(\\theta_{i, j})\\frac{\\partial A_{i, j}}{\\partial \\rho_\\ell}}{2A_{i, j}} & \\text{if $\\ell = c(i, j)$}, \\\\\n",
    "        0 & \\text{otherwise},\n",
    "    \\end{cases} \\\\\n",
    "    \\left(\\frac{\\partial L_C}{\\partial \\rho_\\ell}\\right)_{i, j} &= \\begin{cases}\n",
    "        \\displaystyle\\frac{1}{2}\\left(\\frac{\\partial}{\\partial \\rho_\\ell}\\cot(\\theta_{i, j}) + \\frac{\\partial}{\\partial \\rho_\\ell}\\cot(\\theta_{j, i})\\right) & \\text{if $(i, j)$ is an edge}, \\\\\n",
    "        \\displaystyle-\\frac{1}{2}\\sum_{\\substack{k \\\\ \\text{$(v_i, v_k)$ is an edge}}}\\left(\\frac{\\partial}{\\partial \\rho_\\ell}\\cot(\\theta_{i, k}) + \\frac{\\partial}{\\partial \\rho_\\ell}\\cot(\\theta_{k, i})\\right) & \\text{if $i = j$}, \\\\\n",
    "        0 & \\text{otherwise},\n",
    "    \\end{cases} \\\\\n",
    "    \\frac{\\partial L}{\\partial \\rho_\\ell} &= D^{-1}\\left(\\frac{\\partial L_C}{\\partial \\rho_\\ell} - \\frac{\\partial D}{\\partial \\rho_\\ell}L\\right).\n",
    "\\end{aligned}$$"
   ]
  }
 ],
 "metadata": {
  "kernelspec": {
   "display_name": "Python 3.10.5 64-bit (system)",
   "language": "python",
   "name": "python3"
  },
  "language_info": {
   "codemirror_mode": {
    "name": "ipython",
    "version": 3
   },
   "file_extension": ".py",
   "mimetype": "text/x-python",
   "name": "python",
   "nbconvert_exporter": "python",
   "pygments_lexer": "ipython3",
   "version": "3.10.5"
  },
  "orig_nbformat": 4,
  "vscode": {
   "interpreter": {
    "hash": "2a8dfe095fce2b5e88c64a2c3ee084c8e0e0d70b23e7b95b1cfb538be294c5c8"
   }
  }
 },
 "nbformat": 4,
 "nbformat_minor": 2
}
